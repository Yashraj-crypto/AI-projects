{
 "cells": [
  {
   "cell_type": "code",
   "execution_count": 1,
   "id": "1b06b8db",
   "metadata": {
    "execution": {
     "iopub.execute_input": "2022-10-03T22:03:57.021949Z",
     "iopub.status.busy": "2022-10-03T22:03:57.020444Z",
     "iopub.status.idle": "2022-10-03T22:03:57.029678Z",
     "shell.execute_reply": "2022-10-03T22:03:57.029183Z",
     "shell.execute_reply.started": "2022-10-03T21:57:01.313593Z"
    },
    "papermill": {
     "duration": 0.02729,
     "end_time": "2022-10-03T22:03:57.029837",
     "exception": false,
     "start_time": "2022-10-03T22:03:57.002547",
     "status": "completed"
    },
    "tags": []
   },
   "outputs": [],
   "source": [
    "import random\n",
    "import pandas as pd\n",
    "import numpy as np\n",
    "from tqdm import tqdm\n",
    "import matplotlib.pyplot as plt"
   ]
  },
  {
   "cell_type": "code",
   "execution_count": 2,
   "id": "d12d6ba0",
   "metadata": {
    "execution": {
     "iopub.execute_input": "2022-10-03T22:03:57.059886Z",
     "iopub.status.busy": "2022-10-03T22:03:57.059305Z",
     "iopub.status.idle": "2022-10-03T22:04:02.659107Z",
     "shell.execute_reply": "2022-10-03T22:04:02.658534Z",
     "shell.execute_reply.started": "2022-10-03T21:42:37.204256Z"
    },
    "papermill": {
     "duration": 5.616452,
     "end_time": "2022-10-03T22:04:02.659245",
     "exception": false,
     "start_time": "2022-10-03T22:03:57.042793",
     "status": "completed"
    },
    "tags": []
   },
   "outputs": [],
   "source": [
    "train = pd.read_csv('../input/digit-recognizer/train.csv')\n",
    "test = pd.read_csv('../input/digit-recognizer/test.csv')"
   ]
  },
  {
   "cell_type": "code",
   "execution_count": 3,
   "id": "dfebb173",
   "metadata": {
    "execution": {
     "iopub.execute_input": "2022-10-03T22:04:02.695259Z",
     "iopub.status.busy": "2022-10-03T22:04:02.694609Z",
     "iopub.status.idle": "2022-10-03T22:04:02.714653Z",
     "shell.execute_reply": "2022-10-03T22:04:02.715095Z",
     "shell.execute_reply.started": "2022-10-03T21:42:42.436888Z"
    },
    "papermill": {
     "duration": 0.042696,
     "end_time": "2022-10-03T22:04:02.715240",
     "exception": false,
     "start_time": "2022-10-03T22:04:02.672544",
     "status": "completed"
    },
    "tags": []
   },
   "outputs": [
    {
     "data": {
      "text/html": [
       "<div>\n",
       "<style scoped>\n",
       "    .dataframe tbody tr th:only-of-type {\n",
       "        vertical-align: middle;\n",
       "    }\n",
       "\n",
       "    .dataframe tbody tr th {\n",
       "        vertical-align: top;\n",
       "    }\n",
       "\n",
       "    .dataframe thead th {\n",
       "        text-align: right;\n",
       "    }\n",
       "</style>\n",
       "<table border=\"1\" class=\"dataframe\">\n",
       "  <thead>\n",
       "    <tr style=\"text-align: right;\">\n",
       "      <th></th>\n",
       "      <th>label</th>\n",
       "      <th>pixel0</th>\n",
       "      <th>pixel1</th>\n",
       "      <th>pixel2</th>\n",
       "      <th>pixel3</th>\n",
       "      <th>pixel4</th>\n",
       "      <th>pixel5</th>\n",
       "      <th>pixel6</th>\n",
       "      <th>pixel7</th>\n",
       "      <th>pixel8</th>\n",
       "      <th>...</th>\n",
       "      <th>pixel774</th>\n",
       "      <th>pixel775</th>\n",
       "      <th>pixel776</th>\n",
       "      <th>pixel777</th>\n",
       "      <th>pixel778</th>\n",
       "      <th>pixel779</th>\n",
       "      <th>pixel780</th>\n",
       "      <th>pixel781</th>\n",
       "      <th>pixel782</th>\n",
       "      <th>pixel783</th>\n",
       "    </tr>\n",
       "  </thead>\n",
       "  <tbody>\n",
       "    <tr>\n",
       "      <th>0</th>\n",
       "      <td>1</td>\n",
       "      <td>0</td>\n",
       "      <td>0</td>\n",
       "      <td>0</td>\n",
       "      <td>0</td>\n",
       "      <td>0</td>\n",
       "      <td>0</td>\n",
       "      <td>0</td>\n",
       "      <td>0</td>\n",
       "      <td>0</td>\n",
       "      <td>...</td>\n",
       "      <td>0</td>\n",
       "      <td>0</td>\n",
       "      <td>0</td>\n",
       "      <td>0</td>\n",
       "      <td>0</td>\n",
       "      <td>0</td>\n",
       "      <td>0</td>\n",
       "      <td>0</td>\n",
       "      <td>0</td>\n",
       "      <td>0</td>\n",
       "    </tr>\n",
       "    <tr>\n",
       "      <th>1</th>\n",
       "      <td>0</td>\n",
       "      <td>0</td>\n",
       "      <td>0</td>\n",
       "      <td>0</td>\n",
       "      <td>0</td>\n",
       "      <td>0</td>\n",
       "      <td>0</td>\n",
       "      <td>0</td>\n",
       "      <td>0</td>\n",
       "      <td>0</td>\n",
       "      <td>...</td>\n",
       "      <td>0</td>\n",
       "      <td>0</td>\n",
       "      <td>0</td>\n",
       "      <td>0</td>\n",
       "      <td>0</td>\n",
       "      <td>0</td>\n",
       "      <td>0</td>\n",
       "      <td>0</td>\n",
       "      <td>0</td>\n",
       "      <td>0</td>\n",
       "    </tr>\n",
       "    <tr>\n",
       "      <th>2</th>\n",
       "      <td>1</td>\n",
       "      <td>0</td>\n",
       "      <td>0</td>\n",
       "      <td>0</td>\n",
       "      <td>0</td>\n",
       "      <td>0</td>\n",
       "      <td>0</td>\n",
       "      <td>0</td>\n",
       "      <td>0</td>\n",
       "      <td>0</td>\n",
       "      <td>...</td>\n",
       "      <td>0</td>\n",
       "      <td>0</td>\n",
       "      <td>0</td>\n",
       "      <td>0</td>\n",
       "      <td>0</td>\n",
       "      <td>0</td>\n",
       "      <td>0</td>\n",
       "      <td>0</td>\n",
       "      <td>0</td>\n",
       "      <td>0</td>\n",
       "    </tr>\n",
       "    <tr>\n",
       "      <th>3</th>\n",
       "      <td>4</td>\n",
       "      <td>0</td>\n",
       "      <td>0</td>\n",
       "      <td>0</td>\n",
       "      <td>0</td>\n",
       "      <td>0</td>\n",
       "      <td>0</td>\n",
       "      <td>0</td>\n",
       "      <td>0</td>\n",
       "      <td>0</td>\n",
       "      <td>...</td>\n",
       "      <td>0</td>\n",
       "      <td>0</td>\n",
       "      <td>0</td>\n",
       "      <td>0</td>\n",
       "      <td>0</td>\n",
       "      <td>0</td>\n",
       "      <td>0</td>\n",
       "      <td>0</td>\n",
       "      <td>0</td>\n",
       "      <td>0</td>\n",
       "    </tr>\n",
       "    <tr>\n",
       "      <th>4</th>\n",
       "      <td>0</td>\n",
       "      <td>0</td>\n",
       "      <td>0</td>\n",
       "      <td>0</td>\n",
       "      <td>0</td>\n",
       "      <td>0</td>\n",
       "      <td>0</td>\n",
       "      <td>0</td>\n",
       "      <td>0</td>\n",
       "      <td>0</td>\n",
       "      <td>...</td>\n",
       "      <td>0</td>\n",
       "      <td>0</td>\n",
       "      <td>0</td>\n",
       "      <td>0</td>\n",
       "      <td>0</td>\n",
       "      <td>0</td>\n",
       "      <td>0</td>\n",
       "      <td>0</td>\n",
       "      <td>0</td>\n",
       "      <td>0</td>\n",
       "    </tr>\n",
       "  </tbody>\n",
       "</table>\n",
       "<p>5 rows × 785 columns</p>\n",
       "</div>"
      ],
      "text/plain": [
       "   label  pixel0  pixel1  pixel2  pixel3  pixel4  pixel5  pixel6  pixel7  \\\n",
       "0      1       0       0       0       0       0       0       0       0   \n",
       "1      0       0       0       0       0       0       0       0       0   \n",
       "2      1       0       0       0       0       0       0       0       0   \n",
       "3      4       0       0       0       0       0       0       0       0   \n",
       "4      0       0       0       0       0       0       0       0       0   \n",
       "\n",
       "   pixel8  ...  pixel774  pixel775  pixel776  pixel777  pixel778  pixel779  \\\n",
       "0       0  ...         0         0         0         0         0         0   \n",
       "1       0  ...         0         0         0         0         0         0   \n",
       "2       0  ...         0         0         0         0         0         0   \n",
       "3       0  ...         0         0         0         0         0         0   \n",
       "4       0  ...         0         0         0         0         0         0   \n",
       "\n",
       "   pixel780  pixel781  pixel782  pixel783  \n",
       "0         0         0         0         0  \n",
       "1         0         0         0         0  \n",
       "2         0         0         0         0  \n",
       "3         0         0         0         0  \n",
       "4         0         0         0         0  \n",
       "\n",
       "[5 rows x 785 columns]"
      ]
     },
     "execution_count": 3,
     "metadata": {},
     "output_type": "execute_result"
    }
   ],
   "source": [
    "train.head()"
   ]
  },
  {
   "cell_type": "code",
   "execution_count": 4,
   "id": "6d22f67e",
   "metadata": {
    "execution": {
     "iopub.execute_input": "2022-10-03T22:04:02.746821Z",
     "iopub.status.busy": "2022-10-03T22:04:02.746291Z",
     "iopub.status.idle": "2022-10-03T22:04:02.751930Z",
     "shell.execute_reply": "2022-10-03T22:04:02.751466Z",
     "shell.execute_reply.started": "2022-10-03T21:42:42.470446Z"
    },
    "papermill": {
     "duration": 0.023124,
     "end_time": "2022-10-03T22:04:02.752043",
     "exception": false,
     "start_time": "2022-10-03T22:04:02.728919",
     "status": "completed"
    },
    "tags": []
   },
   "outputs": [
    {
     "data": {
      "text/plain": [
       "(42000, 785)"
      ]
     },
     "execution_count": 4,
     "metadata": {},
     "output_type": "execute_result"
    }
   ],
   "source": [
    "train.to_numpy().shape"
   ]
  },
  {
   "cell_type": "code",
   "execution_count": 5,
   "id": "6929cc43",
   "metadata": {
    "execution": {
     "iopub.execute_input": "2022-10-03T22:04:02.782696Z",
     "iopub.status.busy": "2022-10-03T22:04:02.782130Z",
     "iopub.status.idle": "2022-10-03T22:04:02.786717Z",
     "shell.execute_reply": "2022-10-03T22:04:02.787138Z",
     "shell.execute_reply.started": "2022-10-03T21:42:42.479038Z"
    },
    "papermill": {
     "duration": 0.021672,
     "end_time": "2022-10-03T22:04:02.787268",
     "exception": false,
     "start_time": "2022-10-03T22:04:02.765596",
     "status": "completed"
    },
    "tags": []
   },
   "outputs": [
    {
     "data": {
      "text/plain": [
       "(28000, 784)"
      ]
     },
     "execution_count": 5,
     "metadata": {},
     "output_type": "execute_result"
    }
   ],
   "source": [
    "test.to_numpy().shape"
   ]
  },
  {
   "cell_type": "code",
   "execution_count": 6,
   "id": "02834092",
   "metadata": {
    "execution": {
     "iopub.execute_input": "2022-10-03T22:04:02.818574Z",
     "iopub.status.busy": "2022-10-03T22:04:02.818052Z",
     "iopub.status.idle": "2022-10-03T22:04:02.821399Z",
     "shell.execute_reply": "2022-10-03T22:04:02.821906Z",
     "shell.execute_reply.started": "2022-10-03T21:42:42.492474Z"
    },
    "papermill": {
     "duration": 0.0211,
     "end_time": "2022-10-03T22:04:02.822053",
     "exception": false,
     "start_time": "2022-10-03T22:04:02.800953",
     "status": "completed"
    },
    "tags": []
   },
   "outputs": [],
   "source": [
    "train_image = train.to_numpy()[0:,1:].reshape(42000,28,28,1)\n",
    "test_image = test.to_numpy().reshape(28000,28,28,1)"
   ]
  },
  {
   "cell_type": "code",
   "execution_count": 7,
   "id": "7ac847c8",
   "metadata": {
    "execution": {
     "iopub.execute_input": "2022-10-03T22:04:02.853735Z",
     "iopub.status.busy": "2022-10-03T22:04:02.852687Z",
     "iopub.status.idle": "2022-10-03T22:04:03.036764Z",
     "shell.execute_reply": "2022-10-03T22:04:03.036288Z",
     "shell.execute_reply.started": "2022-10-03T21:42:42.504382Z"
    },
    "papermill": {
     "duration": 0.201217,
     "end_time": "2022-10-03T22:04:03.036933",
     "exception": false,
     "start_time": "2022-10-03T22:04:02.835716",
     "status": "completed"
    },
    "tags": []
   },
   "outputs": [],
   "source": [
    "train_image = train_image.astype(float) / 255.0\n",
    "test_image = test_image.astype(float) / 255.0"
   ]
  },
  {
   "cell_type": "code",
   "execution_count": 8,
   "id": "f33a1cbb",
   "metadata": {
    "execution": {
     "iopub.execute_input": "2022-10-03T22:04:03.071206Z",
     "iopub.status.busy": "2022-10-03T22:04:03.070455Z",
     "iopub.status.idle": "2022-10-03T22:04:03.073436Z",
     "shell.execute_reply": "2022-10-03T22:04:03.072923Z",
     "shell.execute_reply.started": "2022-10-03T21:42:42.698023Z"
    },
    "papermill": {
     "duration": 0.022394,
     "end_time": "2022-10-03T22:04:03.073546",
     "exception": false,
     "start_time": "2022-10-03T22:04:03.051152",
     "status": "completed"
    },
    "tags": []
   },
   "outputs": [],
   "source": [
    "def add_noise(image):\n",
    "    img = np.copy(image)\n",
    "    row , col, _ = img.shape\n",
    "     \n",
    "    number_of_pixels = random.randint(210, 240)\n",
    "    for i in range(number_of_pixels):\n",
    "       \n",
    "        y_coord=random.randint(0, row - 1)\n",
    "        x_coord=random.randint(0, col - 1)\n",
    "\n",
    "        img[y_coord,x_coord,:] = random.random()\n",
    "    \n",
    "    return img"
   ]
  },
  {
   "cell_type": "code",
   "execution_count": 9,
   "id": "c9361208",
   "metadata": {
    "execution": {
     "iopub.execute_input": "2022-10-03T22:04:03.105868Z",
     "iopub.status.busy": "2022-10-03T22:04:03.105246Z",
     "iopub.status.idle": "2022-10-03T22:04:03.108299Z",
     "shell.execute_reply": "2022-10-03T22:04:03.107821Z",
     "shell.execute_reply.started": "2022-10-03T21:53:57.620912Z"
    },
    "papermill": {
     "duration": 0.021058,
     "end_time": "2022-10-03T22:04:03.108406",
     "exception": false,
     "start_time": "2022-10-03T22:04:03.087348",
     "status": "completed"
    },
    "tags": []
   },
   "outputs": [],
   "source": [
    "def train_noise(train_image_y):\n",
    "    print('Adding Noise')\n",
    "    train_image = np.copy(train_image_y)\n",
    "    for i,img in tqdm(enumerate(train_image), total = len(train_image)):\n",
    "        train_image[i] = add_noise(img)\n",
    "    return train_image"
   ]
  },
  {
   "cell_type": "code",
   "execution_count": 10,
   "id": "e1547d3b",
   "metadata": {
    "execution": {
     "iopub.execute_input": "2022-10-03T22:04:03.153697Z",
     "iopub.status.busy": "2022-10-03T22:04:03.152985Z",
     "iopub.status.idle": "2022-10-03T22:04:03.291636Z",
     "shell.execute_reply": "2022-10-03T22:04:03.292097Z",
     "shell.execute_reply.started": "2022-10-03T21:42:42.718970Z"
    },
    "papermill": {
     "duration": 0.16916,
     "end_time": "2022-10-03T22:04:03.292268",
     "exception": false,
     "start_time": "2022-10-03T22:04:03.123108",
     "status": "completed"
    },
    "tags": []
   },
   "outputs": [
    {
     "name": "stdout",
     "output_type": "stream",
     "text": [
      "(28, 28, 1)\n"
     ]
    },
    {
     "data": {
      "text/plain": [
       "<matplotlib.image.AxesImage at 0x7f74aa0aa710>"
      ]
     },
     "execution_count": 10,
     "metadata": {},
     "output_type": "execute_result"
    },
    {
     "data": {
      "image/png": "[encoded data removed]",
      "text/plain": [
       "<Figure size 432x288 with 1 Axes>"
      ]
     },
     "metadata": {
      "needs_background": "light"
     },
     "output_type": "display_data"
    }
   ],
   "source": [
    "img = train_image[5]\n",
    "print(img.shape)\n",
    "plt.imshow(img.squeeze(), cmap = 'gray')"
   ]
  },
  {
   "cell_type": "code",
   "execution_count": 11,
   "id": "0472c07a",
   "metadata": {
    "execution": {
     "iopub.execute_input": "2022-10-03T22:04:03.341343Z",
     "iopub.status.busy": "2022-10-03T22:04:03.340486Z",
     "iopub.status.idle": "2022-10-03T22:04:03.451962Z",
     "shell.execute_reply": "2022-10-03T22:04:03.452365Z",
     "shell.execute_reply.started": "2022-10-03T21:42:42.876630Z"
    },
    "papermill": {
     "duration": 0.145051,
     "end_time": "2022-10-03T22:04:03.452521",
     "exception": false,
     "start_time": "2022-10-03T22:04:03.307470",
     "status": "completed"
    },
    "tags": []
   },
   "outputs": [
    {
     "name": "stdout",
     "output_type": "stream",
     "text": [
      "(28, 28, 1)\n"
     ]
    },
    {
     "data": {
      "text/plain": [
       "<matplotlib.image.AxesImage at 0x7f74a3d545d0>"
      ]
     },
     "execution_count": 11,
     "metadata": {},
     "output_type": "execute_result"
    },
    {
     "data": {
      "image/png": "[encoded data removed]",
      "text/plain": [
       "<Figure size 432x288 with 1 Axes>"
      ]
     },
     "metadata": {
      "needs_background": "light"
     },
     "output_type": "display_data"
    }
   ],
   "source": [
    "img = add_noise(train_image[5])\n",
    "print(img.shape)\n",
    "plt.imshow(img.squeeze(), cmap= 'gray')"
   ]
  },
  {
   "cell_type": "code",
   "execution_count": 12,
   "id": "0b634cc7",
   "metadata": {
    "execution": {
     "iopub.execute_input": "2022-10-03T22:04:03.489230Z",
     "iopub.status.busy": "2022-10-03T22:04:03.488668Z",
     "iopub.status.idle": "2022-10-03T22:04:08.288925Z",
     "shell.execute_reply": "2022-10-03T22:04:08.288409Z",
     "shell.execute_reply.started": "2022-10-03T21:42:43.078459Z"
    },
    "papermill": {
     "duration": 4.81962,
     "end_time": "2022-10-03T22:04:08.289072",
     "exception": false,
     "start_time": "2022-10-03T22:04:03.469452",
     "status": "completed"
    },
    "tags": []
   },
   "outputs": [],
   "source": [
    "import tensorflow as tf\n",
    "from tensorflow import keras\n",
    "from keras.layers import InputLayer, Conv2D, LeakyReLU, Conv2DTranspose\n",
    "from keras.losses import MeanSquaredError\n",
    "from keras.optimizers import Adam"
   ]
  },
  {
   "cell_type": "code",
   "execution_count": 13,
   "id": "ea8ca06d",
   "metadata": {
    "execution": {
     "iopub.execute_input": "2022-10-03T22:04:08.329182Z",
     "iopub.status.busy": "2022-10-03T22:04:08.328187Z",
     "iopub.status.idle": "2022-10-03T22:04:08.331098Z",
     "shell.execute_reply": "2022-10-03T22:04:08.330632Z",
     "shell.execute_reply.started": "2022-10-03T21:42:47.997794Z"
    },
    "papermill": {
     "duration": 0.025498,
     "end_time": "2022-10-03T22:04:08.331218",
     "exception": false,
     "start_time": "2022-10-03T22:04:08.305720",
     "status": "completed"
    },
    "tags": []
   },
   "outputs": [],
   "source": [
    "class AutoEncoder(keras.Model):\n",
    "    def __init__(self,input_shape):\n",
    "        super(AutoEncoder,self).__init__()\n",
    "        #encoder\n",
    "        self.encoder = keras.Sequential([\n",
    "            InputLayer(input_shape=input_shape),\n",
    "            Conv2D(64,kernel_size=3,strides=2,padding='same'),\n",
    "            LeakyReLU(0.001),\n",
    "            Conv2D(64,kernel_size=3,strides=2,padding='same'),\n",
    "            LeakyReLU(0.001)\n",
    "        ])\n",
    "\n",
    "        #decoder\n",
    "        self.decoder = keras.Sequential([\n",
    "            Conv2DTranspose(64,kernel_size=3,strides=2,padding='same'),\n",
    "            LeakyReLU(0.001),\n",
    "            Conv2DTranspose(64,kernel_size=3,strides=2,padding='same'),\n",
    "            LeakyReLU(0.001),\n",
    "            Conv2D(input_shape[2],kernel_size=3,padding='same'),\n",
    "            LeakyReLU(0.001)\n",
    "        ])\n",
    "\n",
    "    def call(self,x):\n",
    "        encoded = self.encoder(x)\n",
    "        decoded = self.decoder(encoded)\n",
    "        return decoded"
   ]
  },
  {
   "cell_type": "code",
   "execution_count": 14,
   "id": "49d6767e",
   "metadata": {
    "execution": {
     "iopub.execute_input": "2022-10-03T22:04:08.366676Z",
     "iopub.status.busy": "2022-10-03T22:04:08.366162Z",
     "iopub.status.idle": "2022-10-03T22:04:10.453922Z",
     "shell.execute_reply": "2022-10-03T22:04:10.453230Z",
     "shell.execute_reply.started": "2022-10-03T21:42:48.008023Z"
    },
    "papermill": {
     "duration": 2.107075,
     "end_time": "2022-10-03T22:04:10.454118",
     "exception": false,
     "start_time": "2022-10-03T22:04:08.347043",
     "status": "completed"
    },
    "tags": []
   },
   "outputs": [],
   "source": [
    "ae = AutoEncoder((28,28,1))"
   ]
  },
  {
   "cell_type": "code",
   "execution_count": 15,
   "id": "445ecc7a",
   "metadata": {
    "execution": {
     "iopub.execute_input": "2022-10-03T22:04:10.492357Z",
     "iopub.status.busy": "2022-10-03T22:04:10.491767Z",
     "iopub.status.idle": "2022-10-03T22:04:10.495694Z",
     "shell.execute_reply": "2022-10-03T22:04:10.495281Z",
     "shell.execute_reply.started": "2022-10-03T21:42:50.272899Z"
    },
    "papermill": {
     "duration": 0.023861,
     "end_time": "2022-10-03T22:04:10.495836",
     "exception": false,
     "start_time": "2022-10-03T22:04:10.471975",
     "status": "completed"
    },
    "tags": []
   },
   "outputs": [],
   "source": [
    "opt = Adam(0.0001)\n",
    "loss = MeanSquaredError()"
   ]
  },
  {
   "cell_type": "code",
   "execution_count": 16,
   "id": "c246ea79",
   "metadata": {
    "execution": {
     "iopub.execute_input": "2022-10-03T22:04:10.536947Z",
     "iopub.status.busy": "2022-10-03T22:04:10.536129Z",
     "iopub.status.idle": "2022-10-03T22:04:10.542649Z",
     "shell.execute_reply": "2022-10-03T22:04:10.542181Z",
     "shell.execute_reply.started": "2022-10-03T21:42:50.278247Z"
    },
    "papermill": {
     "duration": 0.030955,
     "end_time": "2022-10-03T22:04:10.542759",
     "exception": false,
     "start_time": "2022-10-03T22:04:10.511804",
     "status": "completed"
    },
    "tags": []
   },
   "outputs": [],
   "source": [
    "ae.compile(optimizer = opt,loss = loss)"
   ]
  },
  {
   "cell_type": "code",
   "execution_count": 17,
   "id": "7999f9e4",
   "metadata": {
    "execution": {
     "iopub.execute_input": "2022-10-03T22:04:10.580851Z",
     "iopub.status.busy": "2022-10-03T22:04:10.579609Z",
     "iopub.status.idle": "2022-10-03T22:09:03.799847Z",
     "shell.execute_reply": "2022-10-03T22:09:03.799022Z",
     "shell.execute_reply.started": "2022-10-03T21:57:06.457428Z"
    },
    "papermill": {
     "duration": 293.240623,
     "end_time": "2022-10-03T22:09:03.799994",
     "exception": false,
     "start_time": "2022-10-03T22:04:10.559371",
     "status": "completed"
    },
    "tags": []
   },
   "outputs": [
    {
     "name": "stderr",
     "output_type": "stream",
     "text": [
      "  0%|          | 146/42000 [00:00<00:28, 1452.82it/s]"
     ]
    },
    {
     "name": "stdout",
     "output_type": "stream",
     "text": [
      "Adding Noise\n"
     ]
    },
    {
     "name": "stderr",
     "output_type": "stream",
     "text": [
      "100%|██████████| 42000/42000 [00:30<00:00, 1373.73it/s]\n"
     ]
    },
    {
     "name": "stdout",
     "output_type": "stream",
     "text": [
      "Epoch 1/100\n",
      "247/247 [==============================] - 10s 13ms/step - loss: 0.0668 - val_loss: 0.0132\n",
      "Epoch 2/100\n",
      "247/247 [==============================] - 2s 10ms/step - loss: 0.0119 - val_loss: 0.0098\n",
      "Epoch 3/100\n",
      "247/247 [==============================] - 3s 11ms/step - loss: 0.0095 - val_loss: 0.0088\n",
      "Epoch 4/100\n",
      "247/247 [==============================] - 3s 10ms/step - loss: 0.0086 - val_loss: 0.0082\n",
      "Epoch 5/100\n",
      "247/247 [==============================] - 2s 10ms/step - loss: 0.0081 - val_loss: 0.0078\n",
      "Epoch 6/100\n",
      "247/247 [==============================] - 2s 10ms/step - loss: 0.0077 - val_loss: 0.0075\n",
      "Epoch 7/100\n",
      "247/247 [==============================] - 3s 10ms/step - loss: 0.0075 - val_loss: 0.0074\n",
      "Epoch 8/100\n",
      "247/247 [==============================] - 3s 10ms/step - loss: 0.0072 - val_loss: 0.0071\n",
      "Epoch 9/100\n",
      "247/247 [==============================] - 3s 10ms/step - loss: 0.0071 - val_loss: 0.0070\n",
      "Epoch 10/100\n",
      "247/247 [==============================] - 2s 10ms/step - loss: 0.0070 - val_loss: 0.0069\n",
      "Epoch 11/100\n",
      "247/247 [==============================] - 2s 10ms/step - loss: 0.0068 - val_loss: 0.0067\n",
      "Epoch 12/100\n",
      "247/247 [==============================] - 3s 10ms/step - loss: 0.0067 - val_loss: 0.0066\n",
      "Epoch 13/100\n",
      "247/247 [==============================] - 2s 10ms/step - loss: 0.0066 - val_loss: 0.0066\n",
      "Epoch 14/100\n",
      "247/247 [==============================] - 2s 10ms/step - loss: 0.0065 - val_loss: 0.0065\n",
      "Epoch 15/100\n",
      "247/247 [==============================] - 2s 10ms/step - loss: 0.0064 - val_loss: 0.0064\n",
      "Epoch 16/100\n",
      "247/247 [==============================] - 3s 12ms/step - loss: 0.0063 - val_loss: 0.0063\n",
      "Epoch 17/100\n",
      "247/247 [==============================] - 2s 10ms/step - loss: 0.0063 - val_loss: 0.0062\n",
      "Epoch 18/100\n",
      "247/247 [==============================] - 2s 10ms/step - loss: 0.0062 - val_loss: 0.0062\n",
      "Epoch 19/100\n",
      "247/247 [==============================] - 2s 10ms/step - loss: 0.0061 - val_loss: 0.0061\n",
      "Epoch 20/100\n",
      "247/247 [==============================] - 3s 10ms/step - loss: 0.0061 - val_loss: 0.0060\n",
      "Epoch 21/100\n",
      "247/247 [==============================] - 3s 10ms/step - loss: 0.0060 - val_loss: 0.0060\n",
      "Epoch 22/100\n",
      "247/247 [==============================] - 2s 10ms/step - loss: 0.0059 - val_loss: 0.0060\n",
      "Epoch 23/100\n",
      "247/247 [==============================] - 2s 10ms/step - loss: 0.0059 - val_loss: 0.0059\n",
      "Epoch 24/100\n",
      "247/247 [==============================] - 3s 10ms/step - loss: 0.0058 - val_loss: 0.0058\n",
      "Epoch 25/100\n",
      "247/247 [==============================] - 3s 10ms/step - loss: 0.0058 - val_loss: 0.0058\n",
      "Epoch 26/100\n",
      "247/247 [==============================] - 2s 10ms/step - loss: 0.0057 - val_loss: 0.0058\n",
      "Epoch 27/100\n",
      "247/247 [==============================] - 2s 10ms/step - loss: 0.0057 - val_loss: 0.0057\n",
      "Epoch 28/100\n",
      "247/247 [==============================] - 3s 11ms/step - loss: 0.0056 - val_loss: 0.0056\n",
      "Epoch 29/100\n",
      "247/247 [==============================] - 3s 11ms/step - loss: 0.0056 - val_loss: 0.0056\n",
      "Epoch 30/100\n",
      "247/247 [==============================] - 2s 10ms/step - loss: 0.0055 - val_loss: 0.0055\n",
      "Epoch 31/100\n",
      "247/247 [==============================] - 2s 10ms/step - loss: 0.0055 - val_loss: 0.0055\n",
      "Epoch 32/100\n",
      "247/247 [==============================] - 2s 10ms/step - loss: 0.0055 - val_loss: 0.0055\n",
      "Epoch 33/100\n",
      "247/247 [==============================] - 3s 10ms/step - loss: 0.0054 - val_loss: 0.0054\n",
      "Epoch 34/100\n",
      "247/247 [==============================] - 3s 10ms/step - loss: 0.0054 - val_loss: 0.0055\n",
      "Epoch 35/100\n",
      "247/247 [==============================] - 3s 10ms/step - loss: 0.0054 - val_loss: 0.0054\n",
      "Epoch 36/100\n",
      "247/247 [==============================] - 3s 10ms/step - loss: 0.0053 - val_loss: 0.0054\n",
      "Epoch 37/100\n",
      "247/247 [==============================] - 3s 10ms/step - loss: 0.0053 - val_loss: 0.0055\n",
      "Epoch 38/100\n",
      "247/247 [==============================] - 3s 11ms/step - loss: 0.0053 - val_loss: 0.0053\n",
      "Epoch 39/100\n",
      "247/247 [==============================] - 3s 10ms/step - loss: 0.0053 - val_loss: 0.0053\n",
      "Epoch 40/100\n",
      "247/247 [==============================] - 3s 10ms/step - loss: 0.0052 - val_loss: 0.0053\n",
      "Epoch 41/100\n",
      "247/247 [==============================] - 3s 11ms/step - loss: 0.0052 - val_loss: 0.0053\n",
      "Epoch 42/100\n",
      "247/247 [==============================] - 3s 11ms/step - loss: 0.0052 - val_loss: 0.0053\n",
      "Epoch 43/100\n",
      "247/247 [==============================] - 3s 10ms/step - loss: 0.0052 - val_loss: 0.0052\n",
      "Epoch 44/100\n",
      "247/247 [==============================] - 3s 10ms/step - loss: 0.0051 - val_loss: 0.0053\n",
      "Epoch 45/100\n",
      "247/247 [==============================] - 3s 10ms/step - loss: 0.0051 - val_loss: 0.0051\n",
      "Epoch 46/100\n",
      "247/247 [==============================] - 3s 11ms/step - loss: 0.0051 - val_loss: 0.0051\n",
      "Epoch 47/100\n",
      "247/247 [==============================] - 3s 10ms/step - loss: 0.0051 - val_loss: 0.0051\n",
      "Epoch 48/100\n",
      "247/247 [==============================] - 3s 10ms/step - loss: 0.0050 - val_loss: 0.0052\n",
      "Epoch 49/100\n",
      "247/247 [==============================] - 2s 10ms/step - loss: 0.0050 - val_loss: 0.0051\n",
      "Epoch 50/100\n",
      "247/247 [==============================] - 2s 10ms/step - loss: 0.0050 - val_loss: 0.0052\n",
      "Epoch 51/100\n",
      "247/247 [==============================] - 3s 11ms/step - loss: 0.0050 - val_loss: 0.0051\n",
      "Epoch 52/100\n",
      "247/247 [==============================] - 2s 10ms/step - loss: 0.0050 - val_loss: 0.0050\n",
      "Epoch 53/100\n",
      "247/247 [==============================] - 3s 11ms/step - loss: 0.0050 - val_loss: 0.0050\n",
      "Epoch 54/100\n",
      "247/247 [==============================] - 3s 10ms/step - loss: 0.0049 - val_loss: 0.0050\n",
      "Epoch 55/100\n",
      "247/247 [==============================] - 3s 10ms/step - loss: 0.0049 - val_loss: 0.0050\n",
      "Epoch 56/100\n",
      "247/247 [==============================] - 2s 10ms/step - loss: 0.0049 - val_loss: 0.0050\n",
      "Epoch 57/100\n",
      "247/247 [==============================] - 3s 11ms/step - loss: 0.0049 - val_loss: 0.0050\n",
      "Epoch 58/100\n",
      "247/247 [==============================] - 2s 10ms/step - loss: 0.0049 - val_loss: 0.0049\n",
      "Epoch 59/100\n",
      "247/247 [==============================] - 3s 11ms/step - loss: 0.0048 - val_loss: 0.0049\n",
      "Epoch 60/100\n",
      "247/247 [==============================] - 3s 10ms/step - loss: 0.0048 - val_loss: 0.0049\n",
      "Epoch 61/100\n",
      "247/247 [==============================] - 2s 10ms/step - loss: 0.0048 - val_loss: 0.0049\n",
      "Epoch 62/100\n",
      "247/247 [==============================] - 2s 10ms/step - loss: 0.0048 - val_loss: 0.0049\n",
      "Epoch 63/100\n",
      "247/247 [==============================] - 2s 10ms/step - loss: 0.0048 - val_loss: 0.0048\n",
      "Epoch 64/100\n",
      "247/247 [==============================] - 3s 10ms/step - loss: 0.0048 - val_loss: 0.0048\n",
      "Epoch 65/100\n",
      "247/247 [==============================] - 3s 10ms/step - loss: 0.0047 - val_loss: 0.0049\n",
      "Epoch 66/100\n",
      "247/247 [==============================] - 3s 11ms/step - loss: 0.0048 - val_loss: 0.0048\n",
      "Epoch 67/100\n",
      "247/247 [==============================] - 2s 10ms/step - loss: 0.0047 - val_loss: 0.0048\n",
      "Epoch 68/100\n",
      "247/247 [==============================] - 3s 10ms/step - loss: 0.0047 - val_loss: 0.0048\n",
      "Epoch 69/100\n",
      "247/247 [==============================] - 3s 10ms/step - loss: 0.0047 - val_loss: 0.0048\n",
      "Epoch 70/100\n",
      "247/247 [==============================] - 3s 10ms/step - loss: 0.0047 - val_loss: 0.0047\n",
      "Epoch 71/100\n",
      "247/247 [==============================] - 2s 10ms/step - loss: 0.0047 - val_loss: 0.0048\n",
      "Epoch 72/100\n",
      "247/247 [==============================] - 3s 11ms/step - loss: 0.0047 - val_loss: 0.0047\n",
      "Epoch 73/100\n",
      "247/247 [==============================] - 2s 10ms/step - loss: 0.0047 - val_loss: 0.0048\n",
      "Epoch 74/100\n",
      "247/247 [==============================] - 2s 10ms/step - loss: 0.0046 - val_loss: 0.0048\n",
      "Epoch 75/100\n",
      "247/247 [==============================] - 2s 10ms/step - loss: 0.0046 - val_loss: 0.0047\n",
      "Epoch 76/100\n",
      "247/247 [==============================] - 2s 10ms/step - loss: 0.0046 - val_loss: 0.0047\n",
      "Epoch 77/100\n",
      "247/247 [==============================] - 3s 10ms/step - loss: 0.0046 - val_loss: 0.0048\n",
      "Epoch 78/100\n",
      "247/247 [==============================] - 3s 11ms/step - loss: 0.0046 - val_loss: 0.0047\n",
      "Epoch 79/100\n",
      "247/247 [==============================] - 2s 10ms/step - loss: 0.0046 - val_loss: 0.0047\n",
      "Epoch 80/100\n",
      "247/247 [==============================] - 2s 10ms/step - loss: 0.0046 - val_loss: 0.0046\n",
      "Epoch 81/100\n",
      "247/247 [==============================] - 3s 11ms/step - loss: 0.0046 - val_loss: 0.0046\n",
      "Epoch 82/100\n",
      "247/247 [==============================] - 3s 10ms/step - loss: 0.0046 - val_loss: 0.0047\n",
      "Epoch 83/100\n",
      "247/247 [==============================] - 2s 10ms/step - loss: 0.0045 - val_loss: 0.0046\n",
      "Epoch 84/100\n",
      "247/247 [==============================] - 2s 10ms/step - loss: 0.0045 - val_loss: 0.0046\n",
      "Epoch 85/100\n",
      "247/247 [==============================] - 3s 11ms/step - loss: 0.0045 - val_loss: 0.0046\n",
      "Epoch 86/100\n",
      "247/247 [==============================] - 2s 10ms/step - loss: 0.0045 - val_loss: 0.0046\n",
      "Epoch 87/100\n",
      "247/247 [==============================] - 2s 10ms/step - loss: 0.0045 - val_loss: 0.0046\n",
      "Epoch 88/100\n",
      "247/247 [==============================] - 2s 10ms/step - loss: 0.0045 - val_loss: 0.0045\n",
      "Epoch 89/100\n",
      "247/247 [==============================] - 2s 10ms/step - loss: 0.0045 - val_loss: 0.0045\n",
      "Epoch 90/100\n",
      "247/247 [==============================] - 3s 11ms/step - loss: 0.0045 - val_loss: 0.0045\n",
      "Epoch 91/100\n",
      "247/247 [==============================] - 3s 10ms/step - loss: 0.0044 - val_loss: 0.0045\n",
      "Epoch 92/100\n",
      "247/247 [==============================] - 2s 10ms/step - loss: 0.0045 - val_loss: 0.0046\n",
      "Epoch 93/100\n",
      "247/247 [==============================] - 2s 10ms/step - loss: 0.0045 - val_loss: 0.0045\n",
      "Epoch 94/100\n",
      "247/247 [==============================] - 3s 11ms/step - loss: 0.0044 - val_loss: 0.0045\n",
      "Epoch 95/100\n",
      "247/247 [==============================] - 3s 10ms/step - loss: 0.0044 - val_loss: 0.0046\n",
      "Epoch 96/100\n",
      "247/247 [==============================] - 2s 10ms/step - loss: 0.0044 - val_loss: 0.0045\n",
      "Epoch 97/100\n",
      "247/247 [==============================] - 2s 10ms/step - loss: 0.0044 - val_loss: 0.0045\n",
      "Epoch 98/100\n",
      "247/247 [==============================] - 3s 11ms/step - loss: 0.0044 - val_loss: 0.0045\n",
      "Epoch 99/100\n",
      "247/247 [==============================] - 3s 10ms/step - loss: 0.0044 - val_loss: 0.0045\n",
      "Epoch 100/100\n",
      "247/247 [==============================] - 2s 10ms/step - loss: 0.0044 - val_loss: 0.0044\n"
     ]
    }
   ],
   "source": [
    "my_callbacks = [keras.callbacks.EarlyStopping(patience=5)]\n",
    "history = ae.fit(train_noise(train_image),train_image,batch_size=128,epochs=100,verbose=1,validation_split=0.25, callbacks = my_callbacks)"
   ]
  },
  {
   "cell_type": "code",
   "execution_count": 18,
   "id": "00bef95d",
   "metadata": {
    "execution": {
     "iopub.execute_input": "2022-10-03T22:09:05.992488Z",
     "iopub.status.busy": "2022-10-03T22:09:05.990840Z",
     "iopub.status.idle": "2022-10-03T22:09:05.995954Z",
     "shell.execute_reply": "2022-10-03T22:09:05.996378Z"
    },
    "papermill": {
     "duration": 1.105472,
     "end_time": "2022-10-03T22:09:05.996524",
     "exception": false,
     "start_time": "2022-10-03T22:09:04.891052",
     "status": "completed"
    },
    "tags": []
   },
   "outputs": [
    {
     "name": "stdout",
     "output_type": "stream",
     "text": [
      "Model: \"auto_encoder\"\n",
      "_________________________________________________________________\n",
      "Layer (type)                 Output Shape              Param #   \n",
      "=================================================================\n",
      "sequential (Sequential)      (None, 7, 7, 64)          37568     \n",
      "_________________________________________________________________\n",
      "sequential_1 (Sequential)    (None, 28, 28, 1)         74433     \n",
      "=================================================================\n",
      "Total params: 112,001\n",
      "Trainable params: 112,001\n",
      "Non-trainable params: 0\n",
      "_________________________________________________________________\n"
     ]
    }
   ],
   "source": [
    "ae.summary()"
   ]
  },
  {
   "cell_type": "code",
   "execution_count": 19,
   "id": "ea646d81",
   "metadata": {
    "execution": {
     "iopub.execute_input": "2022-10-03T22:09:08.249260Z",
     "iopub.status.busy": "2022-10-03T22:09:08.247857Z",
     "iopub.status.idle": "2022-10-03T22:09:10.350572Z",
     "shell.execute_reply": "2022-10-03T22:09:10.351567Z",
     "shell.execute_reply.started": "2022-10-03T21:54:09.027679Z"
    },
    "papermill": {
     "duration": 3.264245,
     "end_time": "2022-10-03T22:09:10.351790",
     "exception": false,
     "start_time": "2022-10-03T22:09:07.087545",
     "status": "completed"
    },
    "tags": []
   },
   "outputs": [
    {
     "data": {
      "image/png": "[encoded data removed]",
      "text/plain": [
       "<Figure size 1440x432 with 30 Axes>"
      ]
     },
     "metadata": {
      "needs_background": "light"
     },
     "output_type": "display_data"
    }
   ],
   "source": [
    "n = 10\n",
    "plt.figure(figsize=(20, 6))\n",
    "for i in range(n):\n",
    "    noisy_image = np.ndarray(test_image.shape)\n",
    "    noisy_image[i] = add_noise(test_image[i])\n",
    "    encoded = ae.encoder(tf.expand_dims(noisy_image[i],axis=0))\n",
    "    cleaned = ae.decoder(encoded)\n",
    "    ax = plt.subplot(3, n, i + 1)\n",
    "    plt.title(\"original\")\n",
    "    plt.imshow(tf.squeeze(test_image[i]))\n",
    "    plt.gray()\n",
    "    ax.get_xaxis().set_visible(False)\n",
    "    ax.get_yaxis().set_visible(False)\n",
    "    bx = plt.subplot(3, n, i + n + 1)\n",
    "    plt.title(\"noisy_image\")\n",
    "    plt.imshow(tf.squeeze(noisy_image[i]))\n",
    "    plt.gray()\n",
    "    bx.get_xaxis().set_visible(False)\n",
    "    bx.get_yaxis().set_visible(False)\n",
    "    cx = plt.subplot(3, n, i + 2*n + 1)\n",
    "    plt.title(\"reconstructed\")\n",
    "    plt.imshow(tf.squeeze(cleaned))\n",
    "    plt.gray()\n",
    "    cx.get_xaxis().set_visible(False)\n",
    "    cx.get_yaxis().set_visible(False)\n",
    "plt.show()"
   ]
  },
  {
   "cell_type": "code",
   "execution_count": 20,
   "id": "b73b8a8c",
   "metadata": {
    "execution": {
     "iopub.execute_input": "2022-10-03T22:09:12.711906Z",
     "iopub.status.busy": "2022-10-03T22:09:12.711272Z",
     "iopub.status.idle": "2022-10-03T22:09:12.838284Z",
     "shell.execute_reply": "2022-10-03T22:09:12.837461Z",
     "shell.execute_reply.started": "2022-10-03T21:56:26.575389Z"
    },
    "papermill": {
     "duration": 1.236953,
     "end_time": "2022-10-03T22:09:12.838414",
     "exception": false,
     "start_time": "2022-10-03T22:09:11.601461",
     "status": "completed"
    },
    "tags": []
   },
   "outputs": [
    {
     "data": {
      "text/plain": [
       "<matplotlib.legend.Legend at 0x7f74200499d0>"
      ]
     },
     "execution_count": 20,
     "metadata": {},
     "output_type": "execute_result"
    },
    {
     "data": {
      "image/png": "[encoded data removed]",
      "text/plain": [
       "<Figure size 432x288 with 1 Axes>"
      ]
     },
     "metadata": {
      "needs_background": "light"
     },
     "output_type": "display_data"
    }
   ],
   "source": [
    "plt.plot(history.history['loss'], label='loss')\n",
    "plt.xlabel('Epoch')\n",
    "plt.ylabel('Loss')\n",
    "plt.ylim([0, np.max(history.history['loss'])*(1+0.5)])\n",
    "plt.legend(loc='lower right')"
   ]
  }
 ],
 "metadata": {
  "kernelspec": {
   "display_name": "Python 3",
   "language": "python",
   "name": "python3"
  },
  "language_info": {
   "codemirror_mode": {
    "name": "ipython",
    "version": 3
   },
   "file_extension": ".py",
   "mimetype": "text/x-python",
   "name": "python",
   "nbconvert_exporter": "python",
   "pygments_lexer": "ipython3",
   "version": "3.7.10"
  },
  "papermill": {
   "default_parameters": {},
   "duration": 325.823881,
   "end_time": "2022-10-03T22:09:16.273285",
   "environment_variables": {},
   "exception": null,
   "input_path": "__notebook__.ipynb",
   "output_path": "__notebook__.ipynb",
   "parameters": {},
   "start_time": "2022-10-03T22:03:50.449404",
   "version": "2.3.3"
  }
 },
 "nbformat": 4,
 "nbformat_minor": 5
}
